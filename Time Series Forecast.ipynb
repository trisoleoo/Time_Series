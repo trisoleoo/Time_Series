{
 "cells": [
  {
   "cell_type": "markdown",
   "metadata": {},
   "source": [
    "### Library and Data Processing"
   ]
  },
  {
   "cell_type": "markdown",
   "metadata": {},
   "source": [
    "To view dashboard visit: https://public.tableau.com/app/profile/leo.li2227/viz/E-commerceSalesDashboard_17231509371580/Overview"
   ]
  },
  {
   "cell_type": "code",
   "execution_count": 1,
   "metadata": {},
   "outputs": [],
   "source": [
    "import pandas as pd\n",
    "import numpy as np\n",
    "import warnings\n",
    "warnings.filterwarnings('ignore')"
   ]
  },
  {
   "cell_type": "code",
   "execution_count": 47,
   "metadata": {},
   "outputs": [],
   "source": [
    "data = pd.read_excel('Sales Data.xlsx')\n",
    "# Get dates for forecast\n",
    "data['Date'] = data['Year'].astype(str) + '-' + data['Month'].astype(str)\n",
    "data['Date'] = pd.to_datetime(data['Date'])\n",
    "# Total revenue by month\n",
    "df = data.groupby('Date')['Ordered Revenue'].sum().reset_index().rename(columns={'Ordered Revenue':'Monthly Revenue'})"
   ]
  },
  {
   "cell_type": "code",
   "execution_count": 52,
   "metadata": {},
   "outputs": [
    {
     "data": {
      "text/html": [
       "<div>\n",
       "<style scoped>\n",
       "    .dataframe tbody tr th:only-of-type {\n",
       "        vertical-align: middle;\n",
       "    }\n",
       "\n",
       "    .dataframe tbody tr th {\n",
       "        vertical-align: top;\n",
       "    }\n",
       "\n",
       "    .dataframe thead th {\n",
       "        text-align: right;\n",
       "    }\n",
       "</style>\n",
       "<table border=\"1\" class=\"dataframe\">\n",
       "  <thead>\n",
       "    <tr style=\"text-align: right;\">\n",
       "      <th></th>\n",
       "      <th>Year</th>\n",
       "      <th>Month</th>\n",
       "      <th>Subcategory</th>\n",
       "      <th>Category</th>\n",
       "      <th>Model / Style Number</th>\n",
       "      <th>Ordered Revenue</th>\n",
       "      <th>Ordered Revenue - % of Total</th>\n",
       "      <th>Ordered Revenue - Prior Period</th>\n",
       "      <th>Ordered Units</th>\n",
       "      <th>Subcategory (Sales Rank)</th>\n",
       "      <th>Glance Views</th>\n",
       "      <th>Change in Glance View - MOM</th>\n",
       "      <th>Change in GV YOY</th>\n",
       "      <th>Conversion Rate</th>\n",
       "      <th>LFO (Price)</th>\n",
       "      <th>Date</th>\n",
       "    </tr>\n",
       "  </thead>\n",
       "  <tbody>\n",
       "    <tr>\n",
       "      <th>9742</th>\n",
       "      <td>2021</td>\n",
       "      <td>11</td>\n",
       "      <td>Subcategory 038</td>\n",
       "      <td>Category 13</td>\n",
       "      <td>F3U13306INCH</td>\n",
       "      <td>0.0</td>\n",
       "      <td>0.0</td>\n",
       "      <td>-</td>\n",
       "      <td>0</td>\n",
       "      <td>1040.0</td>\n",
       "      <td>0.0</td>\n",
       "      <td>—</td>\n",
       "      <td>-1</td>\n",
       "      <td>NaN</td>\n",
       "      <td>NaN</td>\n",
       "      <td>2021-11-01</td>\n",
       "    </tr>\n",
       "  </tbody>\n",
       "</table>\n",
       "</div>"
      ],
      "text/plain": [
       "      Year  Month      Subcategory     Category Model / Style Number  \\\n",
       "9742  2021     11  Subcategory 038  Category 13         F3U13306INCH   \n",
       "\n",
       "      Ordered Revenue  Ordered Revenue - % of Total  \\\n",
       "9742              0.0                           0.0   \n",
       "\n",
       "     Ordered Revenue - Prior Period  Ordered Units  Subcategory (Sales Rank)  \\\n",
       "9742                              -              0                    1040.0   \n",
       "\n",
       "      Glance Views Change in Glance View - MOM Change in GV YOY  \\\n",
       "9742           0.0                           —               -1   \n",
       "\n",
       "      Conversion Rate  LFO (Price)       Date  \n",
       "9742              NaN          NaN 2021-11-01  "
      ]
     },
     "execution_count": 52,
     "metadata": {},
     "output_type": "execute_result"
    }
   ],
   "source": [
    "data.sample()"
   ]
  },
  {
   "cell_type": "code",
   "execution_count": 53,
   "metadata": {},
   "outputs": [
    {
     "data": {
      "text/html": [
       "<div>\n",
       "<style scoped>\n",
       "    .dataframe tbody tr th:only-of-type {\n",
       "        vertical-align: middle;\n",
       "    }\n",
       "\n",
       "    .dataframe tbody tr th {\n",
       "        vertical-align: top;\n",
       "    }\n",
       "\n",
       "    .dataframe thead th {\n",
       "        text-align: right;\n",
       "    }\n",
       "</style>\n",
       "<table border=\"1\" class=\"dataframe\">\n",
       "  <thead>\n",
       "    <tr style=\"text-align: right;\">\n",
       "      <th></th>\n",
       "      <th>Date</th>\n",
       "      <th>Category</th>\n",
       "      <th>Monthly Revenue</th>\n",
       "    </tr>\n",
       "  </thead>\n",
       "  <tbody>\n",
       "    <tr>\n",
       "      <th>0</th>\n",
       "      <td>2021-01-01</td>\n",
       "      <td>Category 01</td>\n",
       "      <td>0.000000e+00</td>\n",
       "    </tr>\n",
       "    <tr>\n",
       "      <th>1</th>\n",
       "      <td>2021-01-01</td>\n",
       "      <td>Category 02</td>\n",
       "      <td>5.372027e+03</td>\n",
       "    </tr>\n",
       "    <tr>\n",
       "      <th>2</th>\n",
       "      <td>2021-01-01</td>\n",
       "      <td>Category 03</td>\n",
       "      <td>1.014791e+03</td>\n",
       "    </tr>\n",
       "    <tr>\n",
       "      <th>3</th>\n",
       "      <td>2021-01-01</td>\n",
       "      <td>Category 05</td>\n",
       "      <td>2.397808e+06</td>\n",
       "    </tr>\n",
       "    <tr>\n",
       "      <th>4</th>\n",
       "      <td>2021-01-01</td>\n",
       "      <td>Category 06</td>\n",
       "      <td>3.934972e+01</td>\n",
       "    </tr>\n",
       "    <tr>\n",
       "      <th>...</th>\n",
       "      <td>...</td>\n",
       "      <td>...</td>\n",
       "      <td>...</td>\n",
       "    </tr>\n",
       "    <tr>\n",
       "      <th>444</th>\n",
       "      <td>2022-06-01</td>\n",
       "      <td>Category 23</td>\n",
       "      <td>2.637233e+05</td>\n",
       "    </tr>\n",
       "    <tr>\n",
       "      <th>445</th>\n",
       "      <td>2022-06-01</td>\n",
       "      <td>Category 24</td>\n",
       "      <td>2.176657e+06</td>\n",
       "    </tr>\n",
       "    <tr>\n",
       "      <th>446</th>\n",
       "      <td>2022-06-01</td>\n",
       "      <td>Category 25</td>\n",
       "      <td>2.239411e+05</td>\n",
       "    </tr>\n",
       "    <tr>\n",
       "      <th>447</th>\n",
       "      <td>2022-06-01</td>\n",
       "      <td>Category 26</td>\n",
       "      <td>1.168172e+03</td>\n",
       "    </tr>\n",
       "    <tr>\n",
       "      <th>448</th>\n",
       "      <td>2022-06-01</td>\n",
       "      <td>Category 28</td>\n",
       "      <td>0.000000e+00</td>\n",
       "    </tr>\n",
       "  </tbody>\n",
       "</table>\n",
       "<p>449 rows × 3 columns</p>\n",
       "</div>"
      ],
      "text/plain": [
       "          Date     Category  Monthly Revenue\n",
       "0   2021-01-01  Category 01     0.000000e+00\n",
       "1   2021-01-01  Category 02     5.372027e+03\n",
       "2   2021-01-01  Category 03     1.014791e+03\n",
       "3   2021-01-01  Category 05     2.397808e+06\n",
       "4   2021-01-01  Category 06     3.934972e+01\n",
       "..         ...          ...              ...\n",
       "444 2022-06-01  Category 23     2.637233e+05\n",
       "445 2022-06-01  Category 24     2.176657e+06\n",
       "446 2022-06-01  Category 25     2.239411e+05\n",
       "447 2022-06-01  Category 26     1.168172e+03\n",
       "448 2022-06-01  Category 28     0.000000e+00\n",
       "\n",
       "[449 rows x 3 columns]"
      ]
     },
     "execution_count": 53,
     "metadata": {},
     "output_type": "execute_result"
    }
   ],
   "source": [
    "data.groupby(['Date','Category'])['Ordered Revenue'].sum().reset_index().rename(columns={'Ordered Revenue':'Monthly Revenue'})"
   ]
  },
  {
   "cell_type": "markdown",
   "metadata": {},
   "source": [
    "### SARIMA Forecast"
   ]
  },
  {
   "cell_type": "markdown",
   "metadata": {},
   "source": [
    "The data shows strong seasonality with peak at November during Black Friday. Holt's Winters could be a great model for this; however, there are only 18 monhts of data which is less than 2 cycles. Therefore, we will use SARIMAX model that considers seasonality to forecast"
   ]
  },
  {
   "cell_type": "markdown",
   "metadata": {},
   "source": [
    "#### Parameter tuning"
   ]
  },
  {
   "cell_type": "code",
   "execution_count": 98,
   "metadata": {},
   "outputs": [
    {
     "data": {
      "text/plain": [
       "0"
      ]
     },
     "execution_count": 98,
     "metadata": {},
     "output_type": "execute_result"
    }
   ],
   "source": [
    "# Determine non-seasonal differencing component\n",
    "from pmdarima.arima.utils import ndiffs\n",
    "ndiffs(df['Monthly Revenue'])"
   ]
  },
  {
   "cell_type": "markdown",
   "metadata": {},
   "source": [
    "We will set d = 0 in the model"
   ]
  },
  {
   "cell_type": "code",
   "execution_count": 88,
   "metadata": {},
   "outputs": [
    {
     "data": {
      "image/png": "[encoded data removed]",
      "text/plain": [
       "<Figure size 1200x600 with 2 Axes>"
      ]
     },
     "metadata": {},
     "output_type": "display_data"
    }
   ],
   "source": [
    "# Plot ACF to help select moving average and PACF to help select autoregressive\n",
    "import matplotlib.pyplot as plt\n",
    "from statsmodels.graphics.tsaplots import plot_acf, plot_pacf\n",
    "plt.figure(figsize=(12, 6))\n",
    "plt.subplot(211)\n",
    "plot_acf(df['Monthly Revenue'], lags=17, ax=plt.gca())\n",
    "plt.title('ACF Plot')\n",
    "plt.subplot(212)\n",
    "plot_pacf(df['Monthly Revenue'], lags=8, ax=plt.gca())\n",
    "plt.title('PACF Plot')\n",
    "plt.tight_layout()\n",
    "plt.show()"
   ]
  },
  {
   "cell_type": "markdown",
   "metadata": {},
   "source": [
    "No strong indication in ACF and PACF, will use cross validation to select p and q \n",
    "Since we only have 1 full period of data so will set P and Q = 1 for seasonal component of the model"
   ]
  },
  {
   "cell_type": "code",
   "execution_count": 2,
   "metadata": {},
   "outputs": [],
   "source": [
    "# 4 fold cross validation to select p and q\n",
    "from sklearn.model_selection import TimeSeriesSplit\n",
    "from sklearn.metrics import mean_squared_error\n",
    "from statsmodels.tsa.statespace.sarimax import SARIMAX\n",
    "# Prepare TimeSeriesSplit\n",
    "tscv = TimeSeriesSplit(n_splits=4)\n",
    "p_values = list(range(9))\n",
    "q_values = list(range(9))\n",
    "\n",
    "model_tuning = []\n",
    "for p in p_values:\n",
    "    for q in q_values:\n",
    "        mse_values = []\n",
    "        for train_index, test_index in tscv.split(df):\n",
    "            train, test = df.iloc[train_index], df.iloc[test_index]\n",
    "            try:\n",
    "                model = SARIMAX(train['Monthly Revenue'], order=(p, 0, q), seasonal_order=(1, 0, 1, 12)).fit()\n",
    "                forecast = model.forecast(steps=len(test))\n",
    "                mse_values.append(mean_squared_error(test['Monthly Revenue'], forecast))    \n",
    "            except Exception as e:\n",
    "                mse_values.append(np.nan)\n",
    "        model_tuning.append({'p': p,'q': q,'MSE': np.nanmean(mse_values)})\n",
    "        \n",
    "model_tuning = pd.DataFrame(model_tuning)"
   ]
  },
  {
   "cell_type": "code",
   "execution_count": 176,
   "metadata": {},
   "outputs": [
    {
     "data": {
      "text/html": [
       "<div>\n",
       "<style scoped>\n",
       "    .dataframe tbody tr th:only-of-type {\n",
       "        vertical-align: middle;\n",
       "    }\n",
       "\n",
       "    .dataframe tbody tr th {\n",
       "        vertical-align: top;\n",
       "    }\n",
       "\n",
       "    .dataframe thead th {\n",
       "        text-align: right;\n",
       "    }\n",
       "</style>\n",
       "<table border=\"1\" class=\"dataframe\">\n",
       "  <thead>\n",
       "    <tr style=\"text-align: right;\">\n",
       "      <th></th>\n",
       "      <th>p</th>\n",
       "      <th>q</th>\n",
       "      <th>MSE</th>\n",
       "    </tr>\n",
       "  </thead>\n",
       "  <tbody>\n",
       "    <tr>\n",
       "      <th>64</th>\n",
       "      <td>7</td>\n",
       "      <td>1</td>\n",
       "      <td>1.176675e+12</td>\n",
       "    </tr>\n",
       "  </tbody>\n",
       "</table>\n",
       "</div>"
      ],
      "text/plain": [
       "    p  q           MSE\n",
       "64  7  1  1.176675e+12"
      ]
     },
     "execution_count": 176,
     "metadata": {},
     "output_type": "execute_result"
    }
   ],
   "source": [
    "# Will use this for the final model\n",
    "model_tuning[model_tuning['MSE']==model_tuning['MSE'].min()]"
   ]
  },
  {
   "cell_type": "markdown",
   "metadata": {},
   "source": [
    "#### Model Evaluation"
   ]
  },
  {
   "cell_type": "markdown",
   "metadata": {},
   "source": [
    "Now we have the best parameter, will train it on the first 15 months of data and predict the next 3 months for forecast error, fit, and accuracy "
   ]
  },
  {
   "cell_type": "code",
   "execution_count": 203,
   "metadata": {},
   "outputs": [],
   "source": [
    "train = df.iloc[:15]\n",
    "test = df.iloc[15:]"
   ]
  },
  {
   "cell_type": "code",
   "execution_count": 207,
   "metadata": {},
   "outputs": [
    {
     "name": "stdout",
     "output_type": "stream",
     "text": [
      "RUNNING THE L-BFGS-B CODE\n",
      "\n",
      "           * * *\n",
      "\n",
      "Machine precision = 2.220D-16\n",
      " N =           11     M =           10\n",
      "\n",
      "At X0         0 variables are exactly at the bounds\n",
      "\n",
      "At iterate    0    f=  5.52588D+01    |proj g|=  6.44785D+01\n",
      "\n",
      "At iterate    5    f=  1.62122D+01    |proj g|=  1.08317D-01\n",
      "\n",
      "At iterate   10    f=  1.61743D+01    |proj g|=  1.06971D-01\n",
      "\n",
      "At iterate   15    f=  1.61036D+01    |proj g|=  5.32540D-02\n",
      "\n",
      "At iterate   20    f=  1.60942D+01    |proj g|=  1.71841D-02\n"
     ]
    },
    {
     "name": "stderr",
     "output_type": "stream",
     "text": [
      " This problem is unconstrained.\n"
     ]
    },
    {
     "name": "stdout",
     "output_type": "stream",
     "text": [
      "\n",
      "At iterate   25    f=  1.60829D+01    |proj g|=  3.93547D-02\n",
      "\n",
      "At iterate   30    f=  1.60752D+01    |proj g|=  2.25266D-02\n",
      "\n",
      "At iterate   35    f=  1.60713D+01    |proj g|=  1.48496D-02\n",
      "\n",
      "At iterate   40    f=  1.60706D+01    |proj g|=  2.58329D-03\n",
      "\n",
      "At iterate   45    f=  1.60706D+01    |proj g|=  3.08336D-04\n",
      "\n",
      "At iterate   50    f=  1.60706D+01    |proj g|=  5.39309D-05\n",
      "\n",
      "           * * *\n",
      "\n",
      "Tit   = total number of iterations\n",
      "Tnf   = total number of function evaluations\n",
      "Tnint = total number of segments explored during Cauchy searches\n",
      "Skip  = number of BFGS updates skipped\n",
      "Nact  = number of active bounds at final generalized Cauchy point\n",
      "Projg = norm of the final projected gradient\n",
      "F     = final function value\n",
      "\n",
      "           * * *\n",
      "\n",
      "   N    Tit     Tnf  Tnint  Skip  Nact     Projg        F\n",
      "   11     50     58      1     0     0   5.393D-05   1.607D+01\n",
      "  F =   16.070619225831376     \n",
      "\n",
      "STOP: TOTAL NO. of ITERATIONS REACHED LIMIT                 \n"
     ]
    }
   ],
   "source": [
    "best_model = SARIMAX(train['Monthly Revenue'], order=(7, 0, 1), seasonal_order=(1, 0, 1, 12)).fit()"
   ]
  },
  {
   "cell_type": "code",
   "execution_count": 208,
   "metadata": {},
   "outputs": [
    {
     "data": {
      "image/png": "[encoded data removed]",
      "text/plain": [
       "<Figure size 1200x600 with 1 Axes>"
      ]
     },
     "metadata": {},
     "output_type": "display_data"
    }
   ],
   "source": [
    "# Forecast for the training set\n",
    "forecast = best_model.forecast(steps=len(test))\n",
    "forecast_index = test.index\n",
    "\n",
    "# Data with actual vs forecast for plotting\n",
    "results = pd.DataFrame({\n",
    "    'Date': df['Date'],\n",
    "    'Actual': pd.concat([train['Monthly Revenue'], test['Monthly Revenue']]),\n",
    "    'Forecast': pd.concat([pd.Series([np.nan] * len(train), index=train.index), pd.Series(forecast, index=forecast_index)])\n",
    "})\n",
    "\n",
    "plt.figure(figsize=(12, 6))\n",
    "plt.plot(results['Date'], results['Actual'], label='Actual Values', color='blue', marker='o')\n",
    "plt.plot(results['Date'], results['Forecast'], label='Forecasted Values', color='red', linestyle='--')\n",
    "plt.xlabel('Date')\n",
    "plt.ylabel('Revenue')\n",
    "plt.title('Actual vs. Forecasted Revenue')\n",
    "plt.legend()\n",
    "plt.grid(True)\n",
    "plt.show()"
   ]
  },
  {
   "cell_type": "markdown",
   "metadata": {},
   "source": [
    "The graph shows that the model fits extremely well for the next 3 months: a great sign"
   ]
  },
  {
   "cell_type": "code",
   "execution_count": 213,
   "metadata": {},
   "outputs": [
    {
     "data": {
      "text/plain": [
       "77238958543.0994"
      ]
     },
     "execution_count": 213,
     "metadata": {},
     "output_type": "execute_result"
    }
   ],
   "source": [
    "# Get the mean squared error for our model\n",
    "mean_squared_error(test['Monthly Revenue'],forecast)"
   ]
  },
  {
   "cell_type": "code",
   "execution_count": 212,
   "metadata": {},
   "outputs": [
    {
     "data": {
      "text/plain": [
       "0.031964098453230005"
      ]
     },
     "execution_count": 212,
     "metadata": {},
     "output_type": "execute_result"
    }
   ],
   "source": [
    "# A percentage point to check for accuracy\n",
    "from sklearn.metrics import mean_absolute_percentage_error\n",
    "\n",
    "mean_absolute_percentage_error(test['Monthly Revenue'],forecast)"
   ]
  },
  {
   "cell_type": "markdown",
   "metadata": {},
   "source": [
    "Our model with only 15 months of data shows high level of accuracy. Since it works so well, we can keep this one as the final model"
   ]
  },
  {
   "cell_type": "markdown",
   "metadata": {},
   "source": [
    "#### Forecasting"
   ]
  },
  {
   "cell_type": "code",
   "execution_count": 234,
   "metadata": {},
   "outputs": [],
   "source": [
    "# Note historical vs predicted for dashboard\n",
    "df['Note'] = 'Historical'\n",
    "\n",
    "forecasted = pd.DataFrame({'Date':pd.date_range(start='2022-07-01', end='2023-06-30', freq='MS'),\n",
    "              'Monthly Revenue':best_model.forecast(steps=15)[3:],\n",
    "              'Note': 'Forcasted'})\n",
    "\n",
    "final = pd.concat([df,forecasted])\n",
    "final.to_csv('forcasted.csv',index=False)"
   ]
  },
  {
   "cell_type": "markdown",
   "metadata": {},
   "source": [
    "### YOY Product Analysis"
   ]
  },
  {
   "cell_type": "markdown",
   "metadata": {},
   "source": [
    "Since we have 18 months of data, we can compare 2021 Jan - June vs 2022 Jan - June in terms of revenue and conversion to see which models have the biggest improvement "
   ]
  },
  {
   "cell_type": "code",
   "execution_count": 324,
   "metadata": {},
   "outputs": [],
   "source": [
    "data['Conversion'] = data['Conversion Rate'] * data['Glance Views']\n",
    "data2021 = data[data['Date']<= '2021-06-01']\n",
    "data2022 = data[data['Date']>= '2022-01-01']"
   ]
  },
  {
   "cell_type": "code",
   "execution_count": 311,
   "metadata": {},
   "outputs": [],
   "source": [
    "data2021 = data2021.groupby('Model / Style Number')[['Ordered Revenue','Glance Views','Conversion']].sum().reset_index().rename(\n",
    "    columns = {'Ordered Revenue':'2021 Revenue'})\n",
    "data2021['2021 CVR'] = data2021['Conversion']/data2021['Glance Views']\n",
    "data2021 = data2021.drop(columns = ['Conversion','Glance Views'])\n",
    "\n",
    "data2022 = data2022.groupby('Model / Style Number')[['Ordered Revenue','Glance Views','Conversion']].sum().reset_index().rename(\n",
    "    columns = {'Ordered Revenue':'2022 Revenue'})\n",
    "data2022['2022 CVR'] = data2022['Conversion']/data2022['Glance Views']\n",
    "data2022 = data2022.drop(columns = ['Conversion','Glance Views'])"
   ]
  },
  {
   "cell_type": "code",
   "execution_count": 312,
   "metadata": {},
   "outputs": [],
   "source": [
    "yoy = pd.merge(data2021,data2022,on = 'Model / Style Number',how = 'inner')"
   ]
  },
  {
   "cell_type": "code",
   "execution_count": 313,
   "metadata": {},
   "outputs": [],
   "source": [
    "yoy['Reveneu Change'] = (yoy['2022 Revenue'] - yoy['2021 Revenue'])/yoy['2021 Revenue']\n",
    "yoy['CVR Change'] = (yoy['2022 CVR'] - yoy['2021 CVR'])/yoy['2021 CVR']"
   ]
  },
  {
   "cell_type": "code",
   "execution_count": 315,
   "metadata": {},
   "outputs": [],
   "source": [
    "yoy.dropna().to_csv('yoy.csv',index = False)"
   ]
  }
 ],
 "metadata": {
  "kernelspec": {
   "display_name": "Python 3",
   "language": "python",
   "name": "python3"
  },
  "language_info": {
   "codemirror_mode": {
    "name": "ipython",
    "version": 3
   },
   "file_extension": ".py",
   "mimetype": "text/x-python",
   "name": "python",
   "nbconvert_exporter": "python",
   "pygments_lexer": "ipython3",
   "version": "3.11.2"
  }
 },
 "nbformat": 4,
 "nbformat_minor": 2
}
